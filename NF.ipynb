{
  "nbformat": 4,
  "nbformat_minor": 0,
  "metadata": {
    "colab": {
      "provenance": [],
      "collapsed_sections": [
        "m079gXvK48-A",
        "atyiMbOI4_N_",
        "2LQoYLkg5C3x",
        "-E_RRl_s5HLU",
        "Wgf4QZoK5MmO"
      ],
      "gpuType": "T4"
    },
    "kernelspec": {
      "name": "python3",
      "display_name": "Python 3"
    },
    "language_info": {
      "name": "python"
    },
    "accelerator": "GPU"
  },
  "cells": [
    {
      "cell_type": "code",
      "source": [
        "import numpy as np\n",
        "import pandas as pd\n",
        "import matplotlib.pyplot as plt\n",
        "from tqdm import tqdm\n",
        "import math\n",
        "import scipy as sp\n",
        "import scipy.linalg\n",
        "\n",
        "import torch\n",
        "import torch.nn as nn\n",
        "import torch.nn.init as init\n",
        "import torch.nn.functional as F\n",
        "from torchvision import transforms\n",
        "from torchvision.utils import save_image\n",
        "import torchvision"
      ],
      "metadata": {
        "id": "yzRTJf8iasCI"
      },
      "execution_count": null,
      "outputs": []
    },
    {
      "cell_type": "markdown",
      "source": [
        "# Utils"
      ],
      "metadata": {
        "id": "m079gXvK48-A"
      }
    },
    {
      "cell_type": "code",
      "source": [
        "import matplotlib.pyplot as plt\n",
        "\n",
        "def plot_acc_loss(train_loss, test_loss):\n",
        "  fig, axes = plt.subplots(1, 1, figsize=(4, 4), constrained_layout=True)\n",
        "  # plt.subplots_adjust(left=0.1, bottom=0.1, right=0.15, top=0.15, wspace=0.2, hspace=0.5)\n",
        "  plt.suptitle(\"Loss, Kl, reconstrucion loss and negetive elbo plot for train and test data\", size=12)\n",
        "  axes.plot(list(range(1, len(train_loss)+1)), train_loss, 'b', label='train errors')\n",
        "  axes.plot(list(range(1, len(test_loss)+1)), test_loss, 'r',label='test errors')\n",
        "  axes.set_ylabel('Loss Average', size=10, labelpad=11)\n",
        "  axes.set_xlabel('Epoch', size=10, labelpad=5)\n",
        "  axes.legend(loc='best', fontsize=8)\n",
        "  axes.grid()\n",
        "\n",
        "  plt.show()"
      ],
      "metadata": {
        "id": "ozmPj8Edubqi"
      },
      "execution_count": null,
      "outputs": []
    },
    {
      "cell_type": "code",
      "source": [
        "def min_max_normalize(x):\n",
        "    return (x-x.min())/(x.max()-x.min())"
      ],
      "metadata": {
        "id": "mf8hqRSw6n9B"
      },
      "execution_count": null,
      "outputs": []
    },
    {
      "cell_type": "code",
      "source": [
        "def get_normal_sample(model):\n",
        "  z = torch.distributions.normal.Normal(0.0, 1.0).sample([16, 28 * 28])\n",
        "  with torch.no_grad():\n",
        "      x, _ = model.backward(z.to(device))\n",
        "  x = x.squeeze().cpu().numpy()\n",
        "  return x"
      ],
      "metadata": {
        "id": "zIA2X0v66sDT"
      },
      "execution_count": null,
      "outputs": []
    },
    {
      "cell_type": "code",
      "source": [
        "def plot_digits(x):\n",
        "  fig, axes = plt.subplots(4, 4,figsize=(12,12))\n",
        "  idx = 0\n",
        "  for i in range(4):\n",
        "    for j in range(4):\n",
        "      data = min_max_normalize(x[idx])\n",
        "      pixels = data.reshape((28, 28))\n",
        "      axes[i][j].imshow(pixels, cmap='gray')\n",
        "      idx+=1"
      ],
      "metadata": {
        "id": "pHIKKPa-68Cu"
      },
      "execution_count": null,
      "outputs": []
    },
    {
      "cell_type": "markdown",
      "source": [
        "# DataLoader"
      ],
      "metadata": {
        "id": "atyiMbOI4_N_"
      }
    },
    {
      "cell_type": "code",
      "execution_count": null,
      "metadata": {
        "id": "wGPk6P6Rabk1",
        "colab": {
          "base_uri": "https://localhost:8080/"
        },
        "outputId": "17293781-9bcd-4b2b-a65a-2e1d568565a0"
      },
      "outputs": [
        {
          "output_type": "stream",
          "name": "stdout",
          "text": [
            "Downloading http://yann.lecun.com/exdb/mnist/train-images-idx3-ubyte.gz\n",
            "Downloading http://yann.lecun.com/exdb/mnist/train-images-idx3-ubyte.gz to /content/MNIST/raw/train-images-idx3-ubyte.gz\n"
          ]
        },
        {
          "output_type": "stream",
          "name": "stderr",
          "text": [
            "100%|██████████| 9912422/9912422 [00:00<00:00, 115342626.92it/s]\n"
          ]
        },
        {
          "output_type": "stream",
          "name": "stdout",
          "text": [
            "Extracting /content/MNIST/raw/train-images-idx3-ubyte.gz to /content/MNIST/raw\n",
            "\n",
            "Downloading http://yann.lecun.com/exdb/mnist/train-labels-idx1-ubyte.gz\n",
            "Downloading http://yann.lecun.com/exdb/mnist/train-labels-idx1-ubyte.gz to /content/MNIST/raw/train-labels-idx1-ubyte.gz\n"
          ]
        },
        {
          "output_type": "stream",
          "name": "stderr",
          "text": [
            "100%|██████████| 28881/28881 [00:00<00:00, 89070363.11it/s]\n"
          ]
        },
        {
          "output_type": "stream",
          "name": "stdout",
          "text": [
            "Extracting /content/MNIST/raw/train-labels-idx1-ubyte.gz to /content/MNIST/raw\n",
            "\n",
            "Downloading http://yann.lecun.com/exdb/mnist/t10k-images-idx3-ubyte.gz\n",
            "Downloading http://yann.lecun.com/exdb/mnist/t10k-images-idx3-ubyte.gz to /content/MNIST/raw/t10k-images-idx3-ubyte.gz\n"
          ]
        },
        {
          "output_type": "stream",
          "name": "stderr",
          "text": [
            "100%|██████████| 1648877/1648877 [00:00<00:00, 27540953.26it/s]\n"
          ]
        },
        {
          "output_type": "stream",
          "name": "stdout",
          "text": [
            "Extracting /content/MNIST/raw/t10k-images-idx3-ubyte.gz to /content/MNIST/raw\n",
            "\n",
            "Downloading http://yann.lecun.com/exdb/mnist/t10k-labels-idx1-ubyte.gz\n",
            "Downloading http://yann.lecun.com/exdb/mnist/t10k-labels-idx1-ubyte.gz to /content/MNIST/raw/t10k-labels-idx1-ubyte.gz\n"
          ]
        },
        {
          "output_type": "stream",
          "name": "stderr",
          "text": [
            "100%|██████████| 4542/4542 [00:00<00:00, 8377541.23it/s]\n"
          ]
        },
        {
          "output_type": "stream",
          "name": "stdout",
          "text": [
            "Extracting /content/MNIST/raw/t10k-labels-idx1-ubyte.gz to /content/MNIST/raw\n",
            "\n"
          ]
        }
      ],
      "source": [
        "batch_size = 256\n",
        "train_loader = torch.utils.data.DataLoader(torchvision.datasets.MNIST('/content/',\n",
        "                                                          download=True,\n",
        "                                                          train=True,\n",
        "                                                          transform=transforms.Compose([\n",
        "                                                              transforms.Resize((28, 28)),\n",
        "                                                              transforms.ToTensor(), # first, convert image to PyTorch tensor\n",
        "                                                              transforms.Normalize((0.1307,), (0.3081,)) # normalize inputs\n",
        "                                                          ])),\n",
        "                                           batch_size=batch_size,\n",
        "                                           shuffle=True)\n",
        "\n",
        "# download and transform test dataset\n",
        "test_loader = torch.utils.data.DataLoader(torchvision.datasets.MNIST('/content/',\n",
        "                                                          download=True,\n",
        "                                                          train=False,\n",
        "                                                          transform=transforms.Compose([\n",
        "                                                              transforms.ToTensor(), # first, convert image to PyTorch tensor\n",
        "                                                              transforms.Normalize((0.1307,), (0.3081,)) # normalize inputs\n",
        "                                                          ])),\n",
        "                                           batch_size=batch_size,\n",
        "                                           shuffle=True)"
      ]
    },
    {
      "cell_type": "markdown",
      "source": [
        "#Models"
      ],
      "metadata": {
        "id": "xdFoNKja5BQV"
      }
    },
    {
      "cell_type": "code",
      "source": [
        "class Scale(nn.Module):\n",
        "    \"\"\"\n",
        "    Simple fully connected neural network.\n",
        "    \"\"\"\n",
        "    def __init__(self, in_dim, out_dim, hidden_dim):\n",
        "        super().__init__()\n",
        "\n",
        "        self.scale = nn.Sequential(\n",
        "            nn.Linear(in_dim, hidden_dim),\n",
        "            nn.ReLU(),\n",
        "            nn.Linear(hidden_dim, hidden_dim),\n",
        "            nn.ReLU(),\n",
        "            nn.Linear(hidden_dim, out_dim),\n",
        "            nn.Tanh()\n",
        "        )\n",
        "\n",
        "    def forward(self, x):\n",
        "        return self.scale(x)\n",
        "\n",
        "\n",
        "class Translation(nn.Module):\n",
        "    \"\"\"\n",
        "    Simple fully connected neural network.\n",
        "    \"\"\"\n",
        "    def __init__(self, in_dim, out_dim, hidden_dim):\n",
        "        super().__init__()\n",
        "\n",
        "        self.translation = nn.Sequential(\n",
        "            nn.Linear(in_dim, hidden_dim),\n",
        "            nn.ReLU(),\n",
        "            nn.Linear(hidden_dim, hidden_dim),\n",
        "            nn.ReLU(),\n",
        "            nn.Linear(hidden_dim, out_dim)\n",
        "        )\n",
        "\n",
        "    def forward(self, x):\n",
        "        return self.translation(x)"
      ],
      "metadata": {
        "id": "qjyc31jlagx3"
      },
      "execution_count": null,
      "outputs": []
    },
    {
      "cell_type": "markdown",
      "source": [
        "## Coupling"
      ],
      "metadata": {
        "id": "2LQoYLkg5C3x"
      }
    },
    {
      "cell_type": "code",
      "source": [
        "class Coupling(nn.Module):\n",
        "    def __init__(self, dim, hidden_dim = 8):\n",
        "        super(Coupling, self).__init__()\n",
        "\n",
        "        self.s = Scale(dim // 2, dim // 2, hidden_dim)\n",
        "        self.t = Translation(dim // 2, dim // 2, hidden_dim)\n",
        "\n",
        "        self.dim = dim\n",
        "\n",
        "    def forward(self, x):\n",
        "        x_a, x_b = x[:,:self.dim // 2], x[:,self.dim // 2:]\n",
        "\n",
        "        t1_transformed = self.t(x_a)\n",
        "        s1_transformed = self.s(x_a)\n",
        "\n",
        "        yb = (torch.exp(s1_transformed) * x_b) + t1_transformed\n",
        "        ya = x_a\n",
        "\n",
        "        z = torch.cat([ya, yb], dim=1)\n",
        "\n",
        "        log_det_jacobian = torch.sum(s1_transformed, dim=1)\n",
        "\n",
        "        return z, log_det_jacobian\n",
        "\n",
        "    def backward(self, z):\n",
        "        z_a, z_b = z[:,:self.dim // 2], z[:,self.dim // 2:]\n",
        "\n",
        "        t1_transformed = self.t(z_a)\n",
        "        s1_transformed = self.s(z_b)\n",
        "\n",
        "        z_b = (z_b - t1_transformed) * torch.exp(-s1_transformed)\n",
        "\n",
        "        z = torch.cat([z_a, z_b], dim=1)\n",
        "\n",
        "        inv_log_det_jacobian = torch.sum(-s1_transformed, dim=1)\n",
        "\n",
        "        return z, inv_log_det_jacobian"
      ],
      "metadata": {
        "id": "4PEEb6hwb8XP"
      },
      "execution_count": null,
      "outputs": []
    },
    {
      "cell_type": "markdown",
      "source": [
        "## Real NVP"
      ],
      "metadata": {
        "id": "-E_RRl_s5HLU"
      }
    },
    {
      "cell_type": "code",
      "source": [
        "import torch\n",
        "import torch.nn as nn\n",
        "from torch.distributions import MultivariateNormal\n",
        "\n",
        "class RealNVP(nn.Module):\n",
        "\n",
        "    def __init__(self, dim, layers):\n",
        "        super().__init__()\n",
        "        self.prior = MultivariateNormal(torch.zeros(dim, device=device), torch.eye(dim, device=device))\n",
        "        self.layers = nn.ModuleList(layers)\n",
        "\n",
        "    def forward(self, x):\n",
        "        bsz, _ = x.shape\n",
        "        log_det = torch.zeros(bsz, device=device)\n",
        "        for layer in self.layers:\n",
        "            x, log_det_jacobian = layer.forward(x)\n",
        "            x = x.flip(1)\n",
        "            log_det += log_det_jacobian\n",
        "        prior_logprob = self.prior.log_prob(x)\n",
        "        return x, prior_logprob, log_det\n",
        "\n",
        "    def backward(self, z):\n",
        "        shp, _ = z.shape\n",
        "        log_det = torch.zeros(shp, device=device)\n",
        "        for layer in self.layers[::-1]:\n",
        "            z, inv_log_det = layer.backward(z)\n",
        "            log_det += inv_log_det\n",
        "        return z, log_det"
      ],
      "metadata": {
        "id": "YcnwM8gohFIN"
      },
      "execution_count": null,
      "outputs": []
    },
    {
      "cell_type": "markdown",
      "source": [
        "# Test"
      ],
      "metadata": {
        "id": "Wgf4QZoK5MmO"
      }
    },
    {
      "cell_type": "code",
      "source": [
        "def test(test_loader, epoch, device):\n",
        "    val_loss = 0\n",
        "    model.eval()\n",
        "    loop_test = tqdm(enumerate(test_loader, 1), total=len(test_loader), desc=\"Test\", position=0, leave=True)\n",
        "    for batch_index, training_sample in loop_test:\n",
        "        img = training_sample[0].to(device)\n",
        "        batch_len = img.size(0)\n",
        "        img_vector = img.reshape(batch_len, -1)\n",
        "        z, prior_logprob, log_det = model(img_vector)\n",
        "\n",
        "        logprob = prior_logprob + abs(log_det)\n",
        "        loss = -torch.mean(logprob)\n",
        "\n",
        "        val_loss += loss\n",
        "\n",
        "        loop_test.set_description(f\"Test - iteration : {epoch}\")\n",
        "        loop_test.set_postfix(\n",
        "          loss_batch=\"{:.4f}\".format(val_loss.detach().item() / batch_index),\n",
        "          refresh=True,\n",
        "    )\n",
        "\n",
        "    val_loss /= len(loop_test)\n",
        "    return val_loss\n"
      ],
      "metadata": {
        "id": "HUT6hrygwe7i"
      },
      "execution_count": null,
      "outputs": []
    },
    {
      "cell_type": "markdown",
      "source": [
        "# Train"
      ],
      "metadata": {
        "id": "_5JArWdI5Nop"
      }
    },
    {
      "cell_type": "code",
      "source": [
        "def train(model, train_loader, test_loader, epochs, batch_size, device):\n",
        "    optimizer = torch.optim.Adam(model.parameters(), lr=0.001)\n",
        "\n",
        "    train_losses = []\n",
        "    validation_losses = []\n",
        "    model.to(device)\n",
        "    for epoch in tqdm(range(1, epochs + 1)):\n",
        "        model.train()\n",
        "        epoch_loss = 0\n",
        "        loop_train = tqdm(enumerate(train_loader, 1), total=len(train_loader), desc=\"train\", position=0, leave=True)\n",
        "        for batch_index, training_sample in loop_train:\n",
        "\n",
        "            optimizer.zero_grad()\n",
        "\n",
        "            img = training_sample[0].to(device)\n",
        "            batch_len = img.size(0)\n",
        "            img_vector = img.reshape(batch_len, -1)\n",
        "            z, prior_logprob, log_det = model(img_vector)\n",
        "\n",
        "            logprob = prior_logprob + abs(log_det)\n",
        "            loss = -torch.mean(logprob)\n",
        "\n",
        "            loss.backward()\n",
        "            optimizer.step()\n",
        "\n",
        "            epoch_loss += loss\n",
        "\n",
        "            loop_train.set_description(f\"Train - iteration : {epoch}\")\n",
        "            loop_train.set_postfix(\n",
        "              loss_batch=\"{:.4f}\".format(epoch_loss.detach().item() / batch_index),\n",
        "              refresh=True,\n",
        "        )\n",
        "\n",
        "        epoch_loss /= len(train_loader)\n",
        "        train_losses.append(np.copy(epoch_loss.detach().cpu().numpy()))\n",
        "\n",
        "        val_loss = test(test_loader, epoch, device)\n",
        "        validation_losses.append(np.copy(val_loss.detach().cpu().numpy()))\n",
        "\n",
        "\n",
        "    return model, train_losses, validation_losses"
      ],
      "metadata": {
        "id": "VTu8DwV56kog"
      },
      "execution_count": null,
      "outputs": []
    },
    {
      "cell_type": "markdown",
      "source": [
        "# Main"
      ],
      "metadata": {
        "id": "04gDFVn_5SiP"
      }
    },
    {
      "cell_type": "code",
      "source": [
        "num_layers = 4\n",
        "dim = 1 * 28 * 28\n",
        "layer = Coupling\n",
        "device = 'cuda'\n",
        "epochs = 200\n",
        "batch_size = 256\n",
        "\n",
        "layers = [layer(dim=dim) for _ in range(num_layers)]\n",
        "\n",
        "model = RealNVP(dim=dim, layers=layers)\n",
        "\n",
        "model, train_loss, test_loss = train(model, train_loader, test_loader, epochs, batch_size, device)\n",
        "\n",
        "plot_acc_loss(train_loss, test_loss)"
      ],
      "metadata": {
        "colab": {
          "base_uri": "https://localhost:8080/",
          "height": 1000
        },
        "id": "Yxx3Wke4GU_J",
        "outputId": "44b72fd1-e362-4ec0-e05d-d750aeea9447"
      },
      "execution_count": null,
      "outputs": [
        {
          "output_type": "stream",
          "name": "stderr",
          "text": [
            "Train - iteration : 1: 100%|██████████| 235/235 [00:24<00:00,  9.61it/s, loss_batch=613.8979]\n",
            "Test - iteration : 1: 100%|██████████| 40/40 [00:02<00:00, 14.10it/s, loss_batch=238.0388]\n",
            "Train - iteration : 2: 100%|██████████| 235/235 [00:18<00:00, 12.53it/s, loss_batch=157.4435]\n",
            "Test - iteration : 2: 100%|██████████| 40/40 [00:02<00:00, 16.31it/s, loss_batch=86.0987]\n",
            "Train - iteration : 3: 100%|██████████| 235/235 [00:17<00:00, 13.18it/s, loss_batch=54.7769]\n",
            "Test - iteration : 3: 100%|██████████| 40/40 [00:02<00:00, 13.45it/s, loss_batch=21.2314]\n",
            "Train - iteration : 4: 100%|██████████| 235/235 [00:18<00:00, 12.85it/s, loss_batch=7.8105]\n",
            "Test - iteration : 4: 100%|██████████| 40/40 [00:02<00:00, 17.59it/s, loss_batch=-8.9854]\n",
            "Train - iteration : 5: 100%|██████████| 235/235 [00:18<00:00, 12.65it/s, loss_batch=-20.0827]\n",
            "Test - iteration : 5: 100%|██████████| 40/40 [00:02<00:00, 14.32it/s, loss_batch=-32.6751]\n",
            "Train - iteration : 6: 100%|██████████| 235/235 [00:18<00:00, 12.84it/s, loss_batch=-40.2601]\n",
            "Test - iteration : 6: 100%|██████████| 40/40 [00:02<00:00, 16.86it/s, loss_batch=-46.6122]\n",
            "Train - iteration : 7: 100%|██████████| 235/235 [00:19<00:00, 12.10it/s, loss_batch=-55.4742]\n",
            "Test - iteration : 7: 100%|██████████| 40/40 [00:02<00:00, 16.86it/s, loss_batch=-66.3102]\n",
            "Train - iteration : 8: 100%|██████████| 235/235 [00:18<00:00, 12.62it/s, loss_batch=-66.1054]\n",
            "Test - iteration : 8: 100%|██████████| 40/40 [00:02<00:00, 16.60it/s, loss_batch=-72.1870]\n",
            "Train - iteration : 9: 100%|██████████| 235/235 [00:18<00:00, 12.87it/s, loss_batch=-77.2579]\n",
            "Test - iteration : 9: 100%|██████████| 40/40 [00:02<00:00, 17.14it/s, loss_batch=-79.6617]\n",
            "Train - iteration : 10: 100%|██████████| 235/235 [00:18<00:00, 12.78it/s, loss_batch=-86.1846]\n",
            "Test - iteration : 10: 100%|██████████| 40/40 [00:02<00:00, 14.96it/s, loss_batch=-90.6546]\n",
            "Train - iteration : 11: 100%|██████████| 235/235 [00:17<00:00, 13.30it/s, loss_batch=-93.9335]\n",
            "Test - iteration : 11: 100%|██████████| 40/40 [00:02<00:00, 17.07it/s, loss_batch=-95.4925]\n",
            "Train - iteration : 12: 100%|██████████| 235/235 [00:18<00:00, 12.81it/s, loss_batch=-100.7654]\n",
            "Test - iteration : 12: 100%|██████████| 40/40 [00:02<00:00, 13.99it/s, loss_batch=-104.2715]\n",
            "Train - iteration : 13: 100%|██████████| 235/235 [00:17<00:00, 13.43it/s, loss_batch=-106.2273]\n",
            "Test - iteration : 13: 100%|██████████| 40/40 [00:02<00:00, 17.07it/s, loss_batch=-111.7304]\n",
            "Train - iteration : 14: 100%|██████████| 235/235 [00:17<00:00, 13.28it/s, loss_batch=-110.4277]\n",
            "Test - iteration : 14: 100%|██████████| 40/40 [00:03<00:00, 12.79it/s, loss_batch=-113.7026]\n",
            "Train - iteration : 15: 100%|██████████| 235/235 [00:17<00:00, 13.23it/s, loss_batch=-115.3777]\n",
            "Test - iteration : 15: 100%|██████████| 40/40 [00:02<00:00, 16.78it/s, loss_batch=-116.6358]\n",
            "Train - iteration : 16: 100%|██████████| 235/235 [00:17<00:00, 13.51it/s, loss_batch=-118.1600]\n",
            "Test - iteration : 16: 100%|██████████| 40/40 [00:02<00:00, 13.75it/s, loss_batch=-118.9039]\n",
            "Train - iteration : 17: 100%|██████████| 235/235 [00:18<00:00, 12.93it/s, loss_batch=-122.6282]\n",
            "Test - iteration : 17: 100%|██████████| 40/40 [00:02<00:00, 17.25it/s, loss_batch=-123.4368]\n",
            "Train - iteration : 18: 100%|██████████| 235/235 [00:17<00:00, 13.35it/s, loss_batch=-124.7069]\n",
            "Test - iteration : 18: 100%|██████████| 40/40 [00:02<00:00, 15.44it/s, loss_batch=-126.6188]\n",
            "Train - iteration : 19: 100%|██████████| 235/235 [00:18<00:00, 12.85it/s, loss_batch=-128.8743]\n",
            "Test - iteration : 19: 100%|██████████| 40/40 [00:02<00:00, 16.94it/s, loss_batch=-126.7354]\n",
            "Train - iteration : 20: 100%|██████████| 235/235 [00:17<00:00, 13.31it/s, loss_batch=-131.6143]\n",
            "Test - iteration : 20: 100%|██████████| 40/40 [00:02<00:00, 16.57it/s, loss_batch=-132.1655]\n",
            "Train - iteration : 21: 100%|██████████| 235/235 [00:19<00:00, 12.32it/s, loss_batch=-134.0914]\n",
            "Test - iteration : 21: 100%|██████████| 40/40 [00:02<00:00, 16.93it/s, loss_batch=-133.1533]\n",
            "Train - iteration : 22: 100%|██████████| 235/235 [00:18<00:00, 12.93it/s, loss_batch=-136.5810]\n",
            "Test - iteration : 22: 100%|██████████| 40/40 [00:02<00:00, 16.76it/s, loss_batch=-137.0185]\n",
            "Train - iteration : 23: 100%|██████████| 235/235 [00:18<00:00, 12.58it/s, loss_batch=-138.0799]\n",
            "Test - iteration : 23: 100%|██████████| 40/40 [00:02<00:00, 17.08it/s, loss_batch=-139.2480]\n",
            "Train - iteration : 24: 100%|██████████| 235/235 [00:17<00:00, 13.54it/s, loss_batch=-141.6542]\n",
            "Test - iteration : 24: 100%|██████████| 40/40 [00:02<00:00, 16.73it/s, loss_batch=-138.6126]\n",
            "Train - iteration : 25: 100%|██████████| 235/235 [00:18<00:00, 12.85it/s, loss_batch=-144.3559]\n",
            "Test - iteration : 25: 100%|██████████| 40/40 [00:02<00:00, 15.04it/s, loss_batch=-142.4881]\n",
            "Train - iteration : 26: 100%|██████████| 235/235 [00:19<00:00, 12.24it/s, loss_batch=-146.8808]\n",
            "Test - iteration : 26: 100%|██████████| 40/40 [00:03<00:00, 12.88it/s, loss_batch=-148.2531]\n",
            "Train - iteration : 27: 100%|██████████| 235/235 [00:18<00:00, 12.70it/s, loss_batch=-150.1191]\n",
            "Test - iteration : 27: 100%|██████████| 40/40 [00:02<00:00, 16.70it/s, loss_batch=-148.7147]\n",
            "Train - iteration : 28: 100%|██████████| 235/235 [00:17<00:00, 13.39it/s, loss_batch=-152.0000]\n",
            "Test - iteration : 28: 100%|██████████| 40/40 [00:02<00:00, 17.02it/s, loss_batch=-149.9408]\n",
            "Train - iteration : 29: 100%|██████████| 235/235 [00:18<00:00, 12.71it/s, loss_batch=-154.9824]\n",
            "Test - iteration : 29: 100%|██████████| 40/40 [00:02<00:00, 14.03it/s, loss_batch=-156.3094]\n",
            "Train - iteration : 30: 100%|██████████| 235/235 [00:17<00:00, 13.29it/s, loss_batch=-157.1447]\n",
            "Test - iteration : 30: 100%|██████████| 40/40 [00:02<00:00, 16.76it/s, loss_batch=-157.9806]\n",
            "Train - iteration : 31: 100%|██████████| 235/235 [00:17<00:00, 13.22it/s, loss_batch=-159.2506]\n",
            "Test - iteration : 31: 100%|██████████| 40/40 [00:03<00:00, 13.09it/s, loss_batch=-153.6424]\n",
            "Train - iteration : 32: 100%|██████████| 235/235 [00:17<00:00, 13.54it/s, loss_batch=-160.5947]\n",
            "Test - iteration : 32: 100%|██████████| 40/40 [00:02<00:00, 17.34it/s, loss_batch=-159.7995]\n",
            "Train - iteration : 33: 100%|██████████| 235/235 [00:17<00:00, 13.12it/s, loss_batch=-163.1336]\n",
            "Test - iteration : 33: 100%|██████████| 40/40 [00:03<00:00, 12.43it/s, loss_batch=-165.3100]\n",
            "Train - iteration : 34: 100%|██████████| 235/235 [00:18<00:00, 12.86it/s, loss_batch=-164.6500]\n",
            "Test - iteration : 34: 100%|██████████| 40/40 [00:02<00:00, 16.43it/s, loss_batch=-164.2674]\n",
            "Train - iteration : 35: 100%|██████████| 235/235 [00:17<00:00, 13.20it/s, loss_batch=-166.2918]\n",
            "Test - iteration : 35: 100%|██████████| 40/40 [00:03<00:00, 13.28it/s, loss_batch=-161.1479]\n",
            "Train - iteration : 36: 100%|██████████| 235/235 [00:18<00:00, 12.94it/s, loss_batch=-167.4440]\n",
            "Test - iteration : 36: 100%|██████████| 40/40 [00:02<00:00, 16.67it/s, loss_batch=-165.0439]\n",
            "Train - iteration : 37: 100%|██████████| 235/235 [00:17<00:00, 13.14it/s, loss_batch=-169.4554]\n",
            "Test - iteration : 37: 100%|██████████| 40/40 [00:02<00:00, 14.24it/s, loss_batch=-169.5468]\n",
            "Train - iteration : 38: 100%|██████████| 235/235 [00:18<00:00, 12.75it/s, loss_batch=-170.4898]\n",
            "Test - iteration : 38: 100%|██████████| 40/40 [00:02<00:00, 17.01it/s, loss_batch=-169.2999]\n",
            "Train - iteration : 39: 100%|██████████| 235/235 [00:17<00:00, 13.33it/s, loss_batch=-171.1526]\n",
            "Test - iteration : 39: 100%|██████████| 40/40 [00:02<00:00, 14.88it/s, loss_batch=-168.5482]\n",
            "Train - iteration : 40: 100%|██████████| 235/235 [00:18<00:00, 12.58it/s, loss_batch=-173.0162]\n",
            "Test - iteration : 40: 100%|██████████| 40/40 [00:02<00:00, 16.86it/s, loss_batch=-170.3644]\n",
            "Train - iteration : 41: 100%|██████████| 235/235 [00:17<00:00, 13.14it/s, loss_batch=-173.4942]\n",
            "Test - iteration : 41: 100%|██████████| 40/40 [00:02<00:00, 16.68it/s, loss_batch=-171.1053]\n",
            "Train - iteration : 42: 100%|██████████| 235/235 [00:18<00:00, 12.41it/s, loss_batch=-174.9725]\n",
            "Test - iteration : 42: 100%|██████████| 40/40 [00:02<00:00, 16.70it/s, loss_batch=-178.1798]\n",
            "Train - iteration : 43: 100%|██████████| 235/235 [00:17<00:00, 13.06it/s, loss_batch=-175.3770]\n",
            "Test - iteration : 43: 100%|██████████| 40/40 [00:02<00:00, 16.81it/s, loss_batch=-176.2467]\n",
            "Train - iteration : 44: 100%|██████████| 235/235 [00:18<00:00, 12.45it/s, loss_batch=-176.6066]\n",
            "Test - iteration : 44: 100%|██████████| 40/40 [00:02<00:00, 16.44it/s, loss_batch=-174.7001]\n",
            "Train - iteration : 45: 100%|██████████| 235/235 [00:17<00:00, 13.17it/s, loss_batch=-178.2827]\n",
            "Test - iteration : 45: 100%|██████████| 40/40 [00:02<00:00, 16.61it/s, loss_batch=-178.5679]\n",
            "Train - iteration : 46: 100%|██████████| 235/235 [00:19<00:00, 11.76it/s, loss_batch=-178.8630]\n",
            "Test - iteration : 46: 100%|██████████| 40/40 [00:02<00:00, 16.79it/s, loss_batch=-179.3245]\n",
            "Train - iteration : 47: 100%|██████████| 235/235 [00:17<00:00, 13.32it/s, loss_batch=-178.8701]\n",
            "Test - iteration : 47: 100%|██████████| 40/40 [00:02<00:00, 17.00it/s, loss_batch=-176.9868]\n",
            "Train - iteration : 48: 100%|██████████| 235/235 [00:18<00:00, 12.63it/s, loss_batch=-180.1456]\n",
            "Test - iteration : 48: 100%|██████████| 40/40 [00:02<00:00, 16.56it/s, loss_batch=-178.9142]\n",
            "Train - iteration : 49: 100%|██████████| 235/235 [00:17<00:00, 13.31it/s, loss_batch=-182.5225]\n",
            "Test - iteration : 49: 100%|██████████| 40/40 [00:02<00:00, 16.79it/s, loss_batch=-182.4593]\n",
            "Train - iteration : 50: 100%|██████████| 235/235 [00:18<00:00, 12.95it/s, loss_batch=-183.0364]\n",
            "Test - iteration : 50: 100%|██████████| 40/40 [00:02<00:00, 14.64it/s, loss_batch=-181.5279]\n",
            "Train - iteration : 51: 100%|██████████| 235/235 [00:17<00:00, 13.39it/s, loss_batch=-183.5339]\n",
            "Test - iteration : 51: 100%|██████████| 40/40 [00:02<00:00, 16.92it/s, loss_batch=-185.2910]\n",
            "Train - iteration : 52: 100%|██████████| 235/235 [00:18<00:00, 12.65it/s, loss_batch=-185.1220]\n",
            "Test - iteration : 52: 100%|██████████| 40/40 [00:03<00:00, 13.11it/s, loss_batch=-183.9552]\n",
            "Train - iteration : 53: 100%|██████████| 235/235 [00:17<00:00, 13.28it/s, loss_batch=-185.3577]\n",
            "Test - iteration : 53: 100%|██████████| 40/40 [00:02<00:00, 17.18it/s, loss_batch=-182.6159]\n",
            "Train - iteration : 54: 100%|██████████| 235/235 [00:17<00:00, 13.30it/s, loss_batch=-186.6060]\n",
            "Test - iteration : 54: 100%|██████████| 40/40 [00:03<00:00, 12.70it/s, loss_batch=-187.8110]\n",
            "Train - iteration : 55: 100%|██████████| 235/235 [00:17<00:00, 13.21it/s, loss_batch=-187.7845]\n",
            "Test - iteration : 55: 100%|██████████| 40/40 [00:02<00:00, 16.81it/s, loss_batch=-189.0276]\n",
            "Train - iteration : 56: 100%|██████████| 235/235 [00:17<00:00, 13.22it/s, loss_batch=-189.3372]\n",
            "Test - iteration : 56: 100%|██████████| 40/40 [00:02<00:00, 13.43it/s, loss_batch=-185.3426]\n",
            "Train - iteration : 57: 100%|██████████| 235/235 [00:18<00:00, 12.72it/s, loss_batch=-189.2555]\n",
            "Test - iteration : 57: 100%|██████████| 40/40 [00:02<00:00, 16.76it/s, loss_batch=-188.5794]\n",
            "Train - iteration : 58: 100%|██████████| 235/235 [00:17<00:00, 13.22it/s, loss_batch=-191.6564]\n",
            "Test - iteration : 58: 100%|██████████| 40/40 [00:02<00:00, 14.19it/s, loss_batch=-189.1167]\n",
            "Train - iteration : 59: 100%|██████████| 235/235 [00:18<00:00, 12.92it/s, loss_batch=-192.1422]\n",
            "Test - iteration : 59: 100%|██████████| 40/40 [00:02<00:00, 17.14it/s, loss_batch=-193.0433]\n",
            "Train - iteration : 60: 100%|██████████| 235/235 [00:17<00:00, 13.23it/s, loss_batch=-193.1662]\n",
            "Test - iteration : 60: 100%|██████████| 40/40 [00:05<00:00,  7.46it/s, loss_batch=-190.2343]\n",
            "Train - iteration : 61: 100%|██████████| 235/235 [00:21<00:00, 10.73it/s, loss_batch=-193.5915]\n",
            "Test - iteration : 61: 100%|██████████| 40/40 [00:02<00:00, 16.49it/s, loss_batch=-194.4669]\n",
            "Train - iteration : 62: 100%|██████████| 235/235 [00:18<00:00, 12.70it/s, loss_batch=-195.4900]\n",
            "Test - iteration : 62: 100%|██████████| 40/40 [00:02<00:00, 15.90it/s, loss_batch=-194.5849]\n",
            "Train - iteration : 63: 100%|██████████| 235/235 [00:17<00:00, 13.16it/s, loss_batch=-195.6327]\n",
            "Test - iteration : 63: 100%|██████████| 40/40 [00:02<00:00, 16.38it/s, loss_batch=-195.1324]\n",
            "Train - iteration : 64: 100%|██████████| 235/235 [00:19<00:00, 11.78it/s, loss_batch=-196.8237]\n",
            "Test - iteration : 64: 100%|██████████| 40/40 [00:02<00:00, 16.82it/s, loss_batch=-193.5758]\n",
            "Train - iteration : 65: 100%|██████████| 235/235 [00:18<00:00, 12.53it/s, loss_batch=-198.4478]\n",
            "Test - iteration : 65: 100%|██████████| 40/40 [00:02<00:00, 16.93it/s, loss_batch=-200.1500]\n",
            "Train - iteration : 66: 100%|██████████| 235/235 [00:19<00:00, 12.35it/s, loss_batch=-198.3839]\n",
            "Test - iteration : 66: 100%|██████████| 40/40 [00:02<00:00, 16.29it/s, loss_batch=-198.9100]\n",
            "Train - iteration : 67: 100%|██████████| 235/235 [00:18<00:00, 12.85it/s, loss_batch=-199.3040]\n",
            "Test - iteration : 67: 100%|██████████| 40/40 [00:02<00:00, 16.57it/s, loss_batch=-199.6706]\n",
            "Train - iteration : 68: 100%|██████████| 235/235 [00:19<00:00, 12.01it/s, loss_batch=-199.9705]\n",
            "Test - iteration : 68: 100%|██████████| 40/40 [00:02<00:00, 16.25it/s, loss_batch=-200.5220]\n",
            "Train - iteration : 69: 100%|██████████| 235/235 [00:18<00:00, 12.99it/s, loss_batch=-200.2532]\n",
            "Test - iteration : 69: 100%|██████████| 40/40 [00:02<00:00, 16.26it/s, loss_batch=-199.2159]\n",
            "Train - iteration : 70: 100%|██████████| 235/235 [00:19<00:00, 12.19it/s, loss_batch=-202.0237]\n",
            "Test - iteration : 70: 100%|██████████| 40/40 [00:02<00:00, 16.61it/s, loss_batch=-202.4116]\n",
            "Train - iteration : 71: 100%|██████████| 235/235 [00:18<00:00, 12.93it/s, loss_batch=-202.2473]\n",
            "Test - iteration : 71: 100%|██████████| 40/40 [00:02<00:00, 16.79it/s, loss_batch=-199.5842]\n",
            "Train - iteration : 72: 100%|██████████| 235/235 [00:19<00:00, 12.33it/s, loss_batch=-203.1350]\n",
            "Test - iteration : 72: 100%|██████████| 40/40 [00:02<00:00, 16.58it/s, loss_batch=-206.0499]\n",
            "Train - iteration : 73: 100%|██████████| 235/235 [00:17<00:00, 13.07it/s, loss_batch=-204.6348]\n",
            "Test - iteration : 73: 100%|██████████| 40/40 [00:02<00:00, 16.40it/s, loss_batch=-203.0450]\n",
            "Train - iteration : 74: 100%|██████████| 235/235 [00:19<00:00, 12.19it/s, loss_batch=-205.2492]\n",
            "Test - iteration : 74: 100%|██████████| 40/40 [00:02<00:00, 16.18it/s, loss_batch=-202.9823]\n",
            "Train - iteration : 75: 100%|██████████| 235/235 [00:18<00:00, 12.76it/s, loss_batch=-205.2653]\n",
            "Test - iteration : 75: 100%|██████████| 40/40 [00:02<00:00, 16.24it/s, loss_batch=-203.1097]\n",
            "Train - iteration : 76: 100%|██████████| 235/235 [00:18<00:00, 12.45it/s, loss_batch=-205.5981]\n",
            "Test - iteration : 76: 100%|██████████| 40/40 [00:02<00:00, 16.00it/s, loss_batch=-196.3610]\n",
            "Train - iteration : 77: 100%|██████████| 235/235 [00:18<00:00, 12.89it/s, loss_batch=-206.2360]\n",
            "Test - iteration : 77: 100%|██████████| 40/40 [00:02<00:00, 16.84it/s, loss_batch=-207.2607]\n",
            "Train - iteration : 78: 100%|██████████| 235/235 [00:18<00:00, 12.55it/s, loss_batch=-207.1347]\n",
            "Test - iteration : 78: 100%|██████████| 40/40 [00:02<00:00, 15.48it/s, loss_batch=-206.1355]\n",
            "Train - iteration : 79: 100%|██████████| 235/235 [00:18<00:00, 12.38it/s, loss_batch=-208.3455]\n",
            "Test - iteration : 79: 100%|██████████| 40/40 [00:02<00:00, 15.59it/s, loss_batch=-206.3870]\n",
            "Train - iteration : 80: 100%|██████████| 235/235 [00:18<00:00, 12.71it/s, loss_batch=-208.0072]\n",
            "Test - iteration : 80: 100%|██████████| 40/40 [00:02<00:00, 14.17it/s, loss_batch=-207.1433]\n",
            "Train - iteration : 81: 100%|██████████| 235/235 [00:17<00:00, 13.56it/s, loss_batch=-209.3580]\n",
            "Test - iteration : 81: 100%|██████████| 40/40 [00:02<00:00, 16.60it/s, loss_batch=-205.4849]\n",
            "Train - iteration : 82: 100%|██████████| 235/235 [00:17<00:00, 13.44it/s, loss_batch=-209.7865]\n",
            "Test - iteration : 82: 100%|██████████| 40/40 [00:02<00:00, 17.21it/s, loss_batch=-206.6721]\n",
            "Train - iteration : 83: 100%|██████████| 235/235 [00:17<00:00, 13.73it/s, loss_batch=-209.0421]\n",
            "Test - iteration : 83: 100%|██████████| 40/40 [00:02<00:00, 15.93it/s, loss_batch=-207.5267]\n",
            "Train - iteration : 84: 100%|██████████| 235/235 [00:18<00:00, 12.69it/s, loss_batch=-210.5550]\n",
            "Test - iteration : 84: 100%|██████████| 40/40 [00:02<00:00, 17.03it/s, loss_batch=-209.2697]\n",
            "Train - iteration : 85: 100%|██████████| 235/235 [00:17<00:00, 13.79it/s, loss_batch=-211.7846]\n",
            "Test - iteration : 85: 100%|██████████| 40/40 [00:02<00:00, 13.46it/s, loss_batch=-208.6578]\n",
            "Train - iteration : 86: 100%|██████████| 235/235 [00:17<00:00, 13.82it/s, loss_batch=-212.1915]\n",
            "Test - iteration : 86: 100%|██████████| 40/40 [00:02<00:00, 17.22it/s, loss_batch=-211.3634]\n",
            "Train - iteration : 87: 100%|██████████| 235/235 [00:17<00:00, 13.34it/s, loss_batch=-212.8156]\n",
            "Test - iteration : 87: 100%|██████████| 40/40 [00:02<00:00, 16.09it/s, loss_batch=-212.1741]\n",
            "Train - iteration : 88: 100%|██████████| 235/235 [00:16<00:00, 13.89it/s, loss_batch=-213.6521]\n",
            "Test - iteration : 88: 100%|██████████| 40/40 [00:02<00:00, 17.28it/s, loss_batch=-209.1702]\n",
            "Train - iteration : 89: 100%|██████████| 235/235 [00:19<00:00, 12.21it/s, loss_batch=-213.1285]\n",
            "Test - iteration : 89: 100%|██████████| 40/40 [00:02<00:00, 16.88it/s, loss_batch=-212.0094]\n",
            "Train - iteration : 90: 100%|██████████| 235/235 [00:19<00:00, 12.02it/s, loss_batch=-214.1550]\n",
            "Test - iteration : 90: 100%|██████████| 40/40 [00:02<00:00, 13.54it/s, loss_batch=-215.6156]\n",
            "Train - iteration : 91: 100%|██████████| 235/235 [00:19<00:00, 12.16it/s, loss_batch=-215.1459]\n",
            "Test - iteration : 91: 100%|██████████| 40/40 [00:02<00:00, 16.22it/s, loss_batch=-214.6205]\n",
            "Train - iteration : 92: 100%|██████████| 235/235 [00:19<00:00, 12.21it/s, loss_batch=-215.7676]\n",
            "Test - iteration : 92: 100%|██████████| 40/40 [00:02<00:00, 15.94it/s, loss_batch=-209.7862]\n",
            "Train - iteration : 93: 100%|██████████| 235/235 [00:19<00:00, 12.08it/s, loss_batch=-215.3392]\n",
            "Test - iteration : 93: 100%|██████████| 40/40 [00:02<00:00, 15.07it/s, loss_batch=-215.4096]\n",
            "Train - iteration : 94: 100%|██████████| 235/235 [00:18<00:00, 12.47it/s, loss_batch=-216.2251]\n",
            "Test - iteration : 94: 100%|██████████| 40/40 [00:02<00:00, 13.46it/s, loss_batch=-215.3689]\n",
            "Train - iteration : 95: 100%|██████████| 235/235 [00:19<00:00, 11.98it/s, loss_batch=-216.1469]\n",
            "Test - iteration : 95: 100%|██████████| 40/40 [00:02<00:00, 15.23it/s, loss_batch=-215.5930]\n",
            "Train - iteration : 96: 100%|██████████| 235/235 [00:20<00:00, 11.58it/s, loss_batch=-217.2584]\n",
            "Test - iteration : 96: 100%|██████████| 40/40 [00:02<00:00, 15.73it/s, loss_batch=-216.1704]\n",
            "Train - iteration : 97: 100%|██████████| 235/235 [00:19<00:00, 11.90it/s, loss_batch=-217.7363]\n",
            "Test - iteration : 97: 100%|██████████| 40/40 [00:02<00:00, 13.34it/s, loss_batch=-212.1669]\n",
            "Train - iteration : 98: 100%|██████████| 235/235 [00:20<00:00, 11.69it/s, loss_batch=-217.8545]\n",
            "Test - iteration : 98: 100%|██████████| 40/40 [00:02<00:00, 15.74it/s, loss_batch=-216.6473]\n",
            "Train - iteration : 99: 100%|██████████| 235/235 [00:19<00:00, 11.91it/s, loss_batch=-217.9171]\n",
            "Test - iteration : 99: 100%|██████████| 40/40 [00:02<00:00, 15.19it/s, loss_batch=-215.6001]\n",
            "Train - iteration : 100: 100%|██████████| 235/235 [00:19<00:00, 11.96it/s, loss_batch=-218.6641]\n",
            "Test - iteration : 100: 100%|██████████| 40/40 [00:02<00:00, 13.79it/s, loss_batch=-217.2828]\n",
            "Train - iteration : 101: 100%|██████████| 235/235 [00:18<00:00, 12.40it/s, loss_batch=-219.5315]\n",
            "Test - iteration : 101: 100%|██████████| 40/40 [00:03<00:00, 12.80it/s, loss_batch=-218.5522]\n",
            "Train - iteration : 102: 100%|██████████| 235/235 [00:19<00:00, 12.05it/s, loss_batch=-220.2990]\n",
            "Test - iteration : 102: 100%|██████████| 40/40 [00:02<00:00, 15.63it/s, loss_batch=-219.7337]\n",
            "Train - iteration : 103: 100%|██████████| 235/235 [00:20<00:00, 11.35it/s, loss_batch=-220.5042]\n",
            "Test - iteration : 103: 100%|██████████| 40/40 [00:02<00:00, 14.98it/s, loss_batch=-219.9882]\n",
            "Train - iteration : 104: 100%|██████████| 235/235 [00:19<00:00, 12.32it/s, loss_batch=-221.0432]\n",
            "Test - iteration : 104: 100%|██████████| 40/40 [00:03<00:00, 12.33it/s, loss_batch=-220.2574]\n",
            "Train - iteration : 105: 100%|██████████| 235/235 [00:18<00:00, 12.80it/s, loss_batch=-221.4818]\n",
            "Test - iteration : 105: 100%|██████████| 40/40 [00:02<00:00, 16.24it/s, loss_batch=-214.3206]\n",
            "Train - iteration : 106: 100%|██████████| 235/235 [00:19<00:00, 12.08it/s, loss_batch=-221.0125]\n",
            "Test - iteration : 106: 100%|██████████| 40/40 [00:02<00:00, 15.37it/s, loss_batch=-219.5228]\n",
            "Train - iteration : 107: 100%|██████████| 235/235 [00:19<00:00, 12.24it/s, loss_batch=-222.6332]\n",
            "Test - iteration : 107: 100%|██████████| 40/40 [00:03<00:00, 12.87it/s, loss_batch=-221.1939]\n",
            "Train - iteration : 108: 100%|██████████| 235/235 [00:19<00:00, 12.09it/s, loss_batch=-222.8874]\n",
            "Test - iteration : 108: 100%|██████████| 40/40 [00:02<00:00, 15.65it/s, loss_batch=-215.9861]\n",
            "Train - iteration : 109: 100%|██████████| 235/235 [00:20<00:00, 11.65it/s, loss_batch=-222.0907]\n",
            "Test - iteration : 109: 100%|██████████| 40/40 [00:02<00:00, 15.14it/s, loss_batch=-216.9394]\n",
            "Train - iteration : 110: 100%|██████████| 235/235 [00:20<00:00, 11.48it/s, loss_batch=-223.6072]\n",
            "Test - iteration : 110: 100%|██████████| 40/40 [00:02<00:00, 14.34it/s, loss_batch=-223.6130]\n",
            "Train - iteration : 111: 100%|██████████| 235/235 [00:18<00:00, 12.61it/s, loss_batch=-223.5203]\n",
            "Test - iteration : 111: 100%|██████████| 40/40 [00:03<00:00, 12.91it/s, loss_batch=-218.0565]\n",
            "Train - iteration : 112: 100%|██████████| 235/235 [00:19<00:00, 11.94it/s, loss_batch=-223.7176]\n",
            "Test - iteration : 112: 100%|██████████| 40/40 [00:02<00:00, 15.82it/s, loss_batch=-217.4544]\n",
            "Train - iteration : 113: 100%|██████████| 235/235 [00:19<00:00, 11.88it/s, loss_batch=-223.8043]\n",
            "Test - iteration : 113: 100%|██████████| 40/40 [00:02<00:00, 14.36it/s, loss_batch=-220.9472]\n",
            "Train - iteration : 114: 100%|██████████| 235/235 [00:19<00:00, 11.82it/s, loss_batch=-225.2482]\n",
            "Test - iteration : 114: 100%|██████████| 40/40 [00:03<00:00, 13.27it/s, loss_batch=-222.5106]\n",
            "Train - iteration : 115: 100%|██████████| 235/235 [00:18<00:00, 12.42it/s, loss_batch=-224.5663]\n",
            "Test - iteration : 115: 100%|██████████| 40/40 [00:02<00:00, 15.26it/s, loss_batch=-224.3298]\n",
            "Train - iteration : 116: 100%|██████████| 235/235 [00:19<00:00, 11.97it/s, loss_batch=-223.6633]\n",
            "Test - iteration : 116: 100%|██████████| 40/40 [00:02<00:00, 14.90it/s, loss_batch=-222.8482]\n",
            "Train - iteration : 117: 100%|██████████| 235/235 [00:19<00:00, 12.16it/s, loss_batch=-225.4211]\n",
            "Test - iteration : 117: 100%|██████████| 40/40 [00:02<00:00, 15.89it/s, loss_batch=-225.4250]\n",
            "Train - iteration : 118: 100%|██████████| 235/235 [00:18<00:00, 12.88it/s, loss_batch=-226.1846]\n",
            "Test - iteration : 118: 100%|██████████| 40/40 [00:02<00:00, 14.97it/s, loss_batch=-223.6604]\n",
            "Train - iteration : 119: 100%|██████████| 235/235 [00:18<00:00, 12.41it/s, loss_batch=-225.8814]\n",
            "Test - iteration : 119: 100%|██████████| 40/40 [00:02<00:00, 15.61it/s, loss_batch=-223.9447]\n",
            "Train - iteration : 120: 100%|██████████| 235/235 [00:19<00:00, 12.23it/s, loss_batch=-226.2042]\n",
            "Test - iteration : 120: 100%|██████████| 40/40 [00:02<00:00, 15.92it/s, loss_batch=-222.1758]\n",
            "Train - iteration : 121: 100%|██████████| 235/235 [00:19<00:00, 11.99it/s, loss_batch=-227.0184]\n",
            "Test - iteration : 121: 100%|██████████| 40/40 [00:02<00:00, 14.41it/s, loss_batch=-224.9584]\n",
            "Train - iteration : 122: 100%|██████████| 235/235 [00:18<00:00, 12.37it/s, loss_batch=-227.0522]\n",
            "Test - iteration : 122: 100%|██████████| 40/40 [00:02<00:00, 15.95it/s, loss_batch=-225.9317]\n",
            "Train - iteration : 123: 100%|██████████| 235/235 [00:18<00:00, 12.43it/s, loss_batch=-227.0945]\n",
            "Test - iteration : 123: 100%|██████████| 40/40 [00:02<00:00, 15.56it/s, loss_batch=-225.3653]\n",
            "Train - iteration : 124: 100%|██████████| 235/235 [00:18<00:00, 12.55it/s, loss_batch=-227.3450]\n",
            "Test - iteration : 124: 100%|██████████| 40/40 [00:02<00:00, 14.53it/s, loss_batch=-222.0277]\n",
            "Train - iteration : 125: 100%|██████████| 235/235 [00:18<00:00, 12.50it/s, loss_batch=-227.4574]\n",
            "Test - iteration : 125: 100%|██████████| 40/40 [00:02<00:00, 15.39it/s, loss_batch=-226.4740]\n",
            "Train - iteration : 126: 100%|██████████| 235/235 [00:19<00:00, 12.22it/s, loss_batch=-228.7063]\n",
            "Test - iteration : 126: 100%|██████████| 40/40 [00:02<00:00, 15.72it/s, loss_batch=-226.3118]\n",
            "Train - iteration : 127: 100%|██████████| 235/235 [00:18<00:00, 12.50it/s, loss_batch=-228.0787]\n",
            "Test - iteration : 127: 100%|██████████| 40/40 [00:03<00:00, 12.95it/s, loss_batch=-228.0553]\n",
            "Train - iteration : 128: 100%|██████████| 235/235 [00:19<00:00, 12.32it/s, loss_batch=-229.0892]\n",
            "Test - iteration : 128: 100%|██████████| 40/40 [00:02<00:00, 15.47it/s, loss_batch=-227.3930]\n",
            "Train - iteration : 129: 100%|██████████| 235/235 [00:20<00:00, 11.69it/s, loss_batch=-229.1068]\n",
            "Test - iteration : 129: 100%|██████████| 40/40 [00:02<00:00, 15.42it/s, loss_batch=-222.3225]\n",
            "Train - iteration : 130: 100%|██████████| 235/235 [00:18<00:00, 12.54it/s, loss_batch=-228.6999]\n",
            "Test - iteration : 130: 100%|██████████| 40/40 [00:03<00:00, 12.22it/s, loss_batch=-225.9944]\n",
            "Train - iteration : 131: 100%|██████████| 235/235 [00:18<00:00, 12.48it/s, loss_batch=-229.6222]\n",
            "Test - iteration : 131: 100%|██████████| 40/40 [00:02<00:00, 15.70it/s, loss_batch=-228.2678]\n",
            "Train - iteration : 132: 100%|██████████| 235/235 [00:19<00:00, 12.27it/s, loss_batch=-228.7764]\n",
            "Test - iteration : 132: 100%|██████████| 40/40 [00:02<00:00, 16.00it/s, loss_batch=-229.5851]\n",
            "Train - iteration : 133: 100%|██████████| 235/235 [00:18<00:00, 12.56it/s, loss_batch=-229.7265]\n",
            "Test - iteration : 133: 100%|██████████| 40/40 [00:03<00:00, 12.84it/s, loss_batch=-228.7395]\n",
            "Train - iteration : 134: 100%|██████████| 235/235 [00:18<00:00, 12.72it/s, loss_batch=-230.2474]\n",
            "Test - iteration : 134: 100%|██████████| 40/40 [00:02<00:00, 15.92it/s, loss_batch=-228.7766]\n",
            "Train - iteration : 135: 100%|██████████| 235/235 [00:19<00:00, 11.91it/s, loss_batch=-229.9173]\n",
            "Test - iteration : 135: 100%|██████████| 40/40 [00:02<00:00, 15.49it/s, loss_batch=-229.1269]\n",
            "Train - iteration : 136: 100%|██████████| 235/235 [00:19<00:00, 12.17it/s, loss_batch=-230.5759]\n",
            "Test - iteration : 136: 100%|██████████| 40/40 [00:02<00:00, 14.27it/s, loss_batch=-229.0713]\n",
            "Train - iteration : 137: 100%|██████████| 235/235 [00:18<00:00, 12.84it/s, loss_batch=-232.1402]\n",
            "Test - iteration : 137: 100%|██████████| 40/40 [00:02<00:00, 15.86it/s, loss_batch=-232.4108]\n",
            "Train - iteration : 138: 100%|██████████| 235/235 [00:19<00:00, 12.10it/s, loss_batch=-230.7569]\n",
            "Test - iteration : 138: 100%|██████████| 40/40 [00:02<00:00, 15.30it/s, loss_batch=-228.8180]\n",
            "Train - iteration : 139: 100%|██████████| 235/235 [00:20<00:00, 11.70it/s, loss_batch=-232.2165]\n",
            "Test - iteration : 139: 100%|██████████| 40/40 [00:02<00:00, 14.85it/s, loss_batch=-231.5457]\n",
            "Train - iteration : 140: 100%|██████████| 235/235 [00:18<00:00, 12.84it/s, loss_batch=-232.0291]\n",
            "Test - iteration : 140: 100%|██████████| 40/40 [00:02<00:00, 14.99it/s, loss_batch=-229.2882]\n",
            "Train - iteration : 141: 100%|██████████| 235/235 [00:19<00:00, 12.29it/s, loss_batch=-232.4043]\n",
            "Test - iteration : 141: 100%|██████████| 40/40 [00:02<00:00, 16.39it/s, loss_batch=-230.8709]\n",
            "Train - iteration : 142: 100%|██████████| 235/235 [00:18<00:00, 12.56it/s, loss_batch=-232.3170]\n",
            "Test - iteration : 142: 100%|██████████| 40/40 [00:02<00:00, 14.99it/s, loss_batch=-225.7238]\n",
            "Train - iteration : 143: 100%|██████████| 235/235 [00:18<00:00, 12.86it/s, loss_batch=-233.2880]\n",
            "Test - iteration : 143: 100%|██████████| 40/40 [00:02<00:00, 14.90it/s, loss_batch=-230.6889]\n",
            "Train - iteration : 144: 100%|██████████| 235/235 [00:19<00:00, 12.25it/s, loss_batch=-232.9711]\n",
            "Test - iteration : 144: 100%|██████████| 40/40 [00:02<00:00, 15.54it/s, loss_batch=-229.0290]\n",
            "Train - iteration : 145: 100%|██████████| 235/235 [00:19<00:00, 12.20it/s, loss_batch=-232.5932]\n",
            "Test - iteration : 145: 100%|██████████| 40/40 [00:02<00:00, 15.73it/s, loss_batch=-234.0390]\n",
            "Train - iteration : 146: 100%|██████████| 235/235 [00:18<00:00, 12.71it/s, loss_batch=-233.6819]\n",
            "Test - iteration : 146: 100%|██████████| 40/40 [00:02<00:00, 13.79it/s, loss_batch=-226.7971]\n",
            "Train - iteration : 147: 100%|██████████| 235/235 [00:18<00:00, 12.40it/s, loss_batch=-234.0300]\n",
            "Test - iteration : 147: 100%|██████████| 40/40 [00:02<00:00, 15.59it/s, loss_batch=-234.4366]\n",
            "Train - iteration : 148: 100%|██████████| 235/235 [00:19<00:00, 12.09it/s, loss_batch=-234.2959]\n",
            "Test - iteration : 148: 100%|██████████| 40/40 [00:02<00:00, 15.77it/s, loss_batch=-232.3672]\n",
            "Train - iteration : 149: 100%|██████████| 235/235 [00:18<00:00, 12.64it/s, loss_batch=-234.5807]\n",
            "Test - iteration : 149: 100%|██████████| 40/40 [00:03<00:00, 13.26it/s, loss_batch=-234.7337]\n",
            "Train - iteration : 150: 100%|██████████| 235/235 [00:19<00:00, 12.24it/s, loss_batch=-234.9689]\n",
            "Test - iteration : 150: 100%|██████████| 40/40 [00:02<00:00, 15.38it/s, loss_batch=-229.1007]\n",
            "Train - iteration : 151: 100%|██████████| 235/235 [00:19<00:00, 12.15it/s, loss_batch=-235.6891]\n",
            "Test - iteration : 151: 100%|██████████| 40/40 [00:02<00:00, 15.79it/s, loss_batch=-234.2071]\n",
            "Train - iteration : 152: 100%|██████████| 235/235 [00:18<00:00, 12.64it/s, loss_batch=-235.4860]\n",
            "Test - iteration : 152: 100%|██████████| 40/40 [00:03<00:00, 12.06it/s, loss_batch=-237.2343]\n",
            "Train - iteration : 153: 100%|██████████| 235/235 [00:18<00:00, 12.54it/s, loss_batch=-237.0065]\n",
            "Test - iteration : 153: 100%|██████████| 40/40 [00:02<00:00, 15.35it/s, loss_batch=-234.3681]\n",
            "Train - iteration : 154: 100%|██████████| 235/235 [00:19<00:00, 12.27it/s, loss_batch=-237.1762]\n",
            "Test - iteration : 154: 100%|██████████| 40/40 [00:02<00:00, 15.79it/s, loss_batch=-235.9695]\n",
            "Train - iteration : 155: 100%|██████████| 235/235 [00:18<00:00, 12.71it/s, loss_batch=-237.4759]\n",
            "Test - iteration : 155: 100%|██████████| 40/40 [00:03<00:00, 12.34it/s, loss_batch=-234.4106]\n",
            "Train - iteration : 156: 100%|██████████| 235/235 [00:18<00:00, 12.70it/s, loss_batch=-237.3397]\n",
            "Test - iteration : 156: 100%|██████████| 40/40 [00:02<00:00, 15.93it/s, loss_batch=-232.3250]\n",
            "Train - iteration : 157: 100%|██████████| 235/235 [00:19<00:00, 12.14it/s, loss_batch=-237.7922]\n",
            "Test - iteration : 157: 100%|██████████| 40/40 [00:02<00:00, 13.59it/s, loss_batch=-226.0293]\n",
            "Train - iteration : 158: 100%|██████████| 235/235 [00:19<00:00, 12.14it/s, loss_batch=-238.2442]\n",
            "Test - iteration : 158: 100%|██████████| 40/40 [00:02<00:00, 13.64it/s, loss_batch=-238.2994]\n",
            "Train - iteration : 159: 100%|██████████| 235/235 [00:18<00:00, 12.78it/s, loss_batch=-238.3165]\n",
            "Test - iteration : 159: 100%|██████████| 40/40 [00:02<00:00, 15.84it/s, loss_batch=-233.0419]\n",
            "Train - iteration : 160: 100%|██████████| 235/235 [00:19<00:00, 12.23it/s, loss_batch=-238.5935]\n",
            "Test - iteration : 160: 100%|██████████| 40/40 [00:02<00:00, 15.45it/s, loss_batch=-232.8329]\n",
            "Train - iteration : 161: 100%|██████████| 235/235 [00:19<00:00, 12.17it/s, loss_batch=-239.1745]\n",
            "Test - iteration : 161: 100%|██████████| 40/40 [00:02<00:00, 14.45it/s, loss_batch=-235.1277]\n",
            "Train - iteration : 162: 100%|██████████| 235/235 [00:18<00:00, 12.79it/s, loss_batch=-239.1148]\n",
            "Test - iteration : 162: 100%|██████████| 40/40 [00:02<00:00, 15.18it/s, loss_batch=-238.4590]\n",
            "Train - iteration : 163: 100%|██████████| 235/235 [00:19<00:00, 12.28it/s, loss_batch=-240.0136]\n",
            "Test - iteration : 163: 100%|██████████| 40/40 [00:02<00:00, 15.60it/s, loss_batch=-239.4631]\n",
            "Train - iteration : 164: 100%|██████████| 235/235 [00:19<00:00, 11.91it/s, loss_batch=-239.6836]\n",
            "Test - iteration : 164: 100%|██████████| 40/40 [00:02<00:00, 15.58it/s, loss_batch=-237.5582]\n",
            "Train - iteration : 165: 100%|██████████| 235/235 [00:18<00:00, 12.42it/s, loss_batch=-239.6174]\n",
            "Test - iteration : 165: 100%|██████████| 40/40 [00:02<00:00, 13.37it/s, loss_batch=-237.7100]\n",
            "Train - iteration : 166: 100%|██████████| 235/235 [00:19<00:00, 12.33it/s, loss_batch=-240.1493]\n",
            "Test - iteration : 166: 100%|██████████| 40/40 [00:02<00:00, 15.39it/s, loss_batch=-237.1794]\n",
            "Train - iteration : 167: 100%|██████████| 235/235 [00:19<00:00, 12.00it/s, loss_batch=-240.6599]\n",
            "Test - iteration : 167: 100%|██████████| 40/40 [00:02<00:00, 15.30it/s, loss_batch=-239.7819]\n",
            "Train - iteration : 168: 100%|██████████| 235/235 [00:18<00:00, 12.63it/s, loss_batch=-240.2999]\n",
            "Test - iteration : 168: 100%|██████████| 40/40 [00:03<00:00, 12.32it/s, loss_batch=-238.4543]\n",
            "Train - iteration : 169: 100%|██████████| 235/235 [00:19<00:00, 12.32it/s, loss_batch=-240.5358]\n",
            "Test - iteration : 169: 100%|██████████| 40/40 [00:02<00:00, 15.28it/s, loss_batch=-240.3146]\n",
            "Train - iteration : 170: 100%|██████████| 235/235 [00:19<00:00, 12.13it/s, loss_batch=-241.2714]\n",
            "Test - iteration : 170: 100%|██████████| 40/40 [00:02<00:00, 15.38it/s, loss_batch=-235.7247]\n",
            "Train - iteration : 171: 100%|██████████| 235/235 [00:19<00:00, 12.27it/s, loss_batch=-241.8951]\n",
            "Test - iteration : 171: 100%|██████████| 40/40 [00:03<00:00, 12.52it/s, loss_batch=-239.5999]\n",
            "Train - iteration : 172: 100%|██████████| 235/235 [00:18<00:00, 12.40it/s, loss_batch=-241.6169]\n",
            "Test - iteration : 172: 100%|██████████| 40/40 [00:02<00:00, 15.00it/s, loss_batch=-237.2163]\n",
            "Train - iteration : 173: 100%|██████████| 235/235 [00:19<00:00, 11.91it/s, loss_batch=-241.3815]\n",
            "Test - iteration : 173: 100%|██████████| 40/40 [00:02<00:00, 14.55it/s, loss_batch=-240.5863]\n",
            "Train - iteration : 174: 100%|██████████| 235/235 [00:19<00:00, 11.99it/s, loss_batch=-242.0924]\n",
            "Test - iteration : 174: 100%|██████████| 40/40 [00:02<00:00, 14.38it/s, loss_batch=-241.5801]\n",
            "Train - iteration : 175: 100%|██████████| 235/235 [00:19<00:00, 12.16it/s, loss_batch=-242.0330]\n",
            "Test - iteration : 175: 100%|██████████| 40/40 [00:03<00:00, 10.97it/s, loss_batch=-240.1378]\n",
            "Train - iteration : 176: 100%|██████████| 235/235 [00:19<00:00, 12.07it/s, loss_batch=-242.5444]\n",
            "Test - iteration : 176: 100%|██████████| 40/40 [00:02<00:00, 15.01it/s, loss_batch=-238.3689]\n",
            "Train - iteration : 177: 100%|██████████| 235/235 [00:20<00:00, 11.57it/s, loss_batch=-243.2499]\n",
            "Test - iteration : 177: 100%|██████████| 40/40 [00:03<00:00, 12.50it/s, loss_batch=-242.4862]\n",
            "Train - iteration : 178: 100%|██████████| 235/235 [00:19<00:00, 12.12it/s, loss_batch=-242.5790]\n",
            "Test - iteration : 178: 100%|██████████| 40/40 [00:03<00:00, 12.21it/s, loss_batch=-241.8742]\n",
            "Train - iteration : 179: 100%|██████████| 235/235 [00:18<00:00, 12.44it/s, loss_batch=-241.5027]\n",
            "Test - iteration : 179: 100%|██████████| 40/40 [00:02<00:00, 15.00it/s, loss_batch=-240.7437]\n",
            "Train - iteration : 180: 100%|██████████| 235/235 [00:19<00:00, 12.02it/s, loss_batch=-242.5930]\n",
            "Test - iteration : 180: 100%|██████████| 40/40 [00:02<00:00, 15.08it/s, loss_batch=-242.5252]\n",
            "Train - iteration : 181: 100%|██████████| 235/235 [00:19<00:00, 12.21it/s, loss_batch=-242.4847]\n",
            "Test - iteration : 181: 100%|██████████| 40/40 [00:02<00:00, 13.64it/s, loss_batch=-243.7770]\n",
            "Train - iteration : 182: 100%|██████████| 235/235 [00:18<00:00, 12.39it/s, loss_batch=-243.7134]\n",
            "Test - iteration : 182: 100%|██████████| 40/40 [00:02<00:00, 13.75it/s, loss_batch=-245.3342]\n",
            "Train - iteration : 183: 100%|██████████| 235/235 [00:19<00:00, 12.00it/s, loss_batch=-243.7219]\n",
            "Test - iteration : 183: 100%|██████████| 40/40 [00:02<00:00, 15.47it/s, loss_batch=-242.1667]\n",
            "Train - iteration : 184: 100%|██████████| 235/235 [00:19<00:00, 11.98it/s, loss_batch=-243.9831]\n",
            "Test - iteration : 184: 100%|██████████| 40/40 [00:02<00:00, 15.53it/s, loss_batch=-242.3908]\n",
            "Train - iteration : 185: 100%|██████████| 235/235 [00:19<00:00, 12.18it/s, loss_batch=-244.5008]\n",
            "Test - iteration : 185: 100%|██████████| 40/40 [00:03<00:00, 13.11it/s, loss_batch=-240.2154]\n",
            "Train - iteration : 186: 100%|██████████| 235/235 [00:18<00:00, 12.44it/s, loss_batch=-243.9460]\n",
            "Test - iteration : 186: 100%|██████████| 40/40 [00:02<00:00, 15.33it/s, loss_batch=-241.0093]\n",
            "Train - iteration : 187: 100%|██████████| 235/235 [00:19<00:00, 12.16it/s, loss_batch=-244.1112]\n",
            "Test - iteration : 187: 100%|██████████| 40/40 [00:02<00:00, 14.76it/s, loss_batch=-243.4006]\n",
            "Train - iteration : 188: 100%|██████████| 235/235 [00:18<00:00, 12.54it/s, loss_batch=-244.6136]\n",
            "Test - iteration : 188: 100%|██████████| 40/40 [00:03<00:00, 12.28it/s, loss_batch=-239.9351]\n",
            "Train - iteration : 189: 100%|██████████| 235/235 [00:18<00:00, 12.54it/s, loss_batch=-245.4925]\n",
            "Test - iteration : 189: 100%|██████████| 40/40 [00:02<00:00, 15.26it/s, loss_batch=-241.6443]\n",
            "Train - iteration : 190: 100%|██████████| 235/235 [00:19<00:00, 12.03it/s, loss_batch=-244.1228]\n",
            "Test - iteration : 190: 100%|██████████| 40/40 [00:02<00:00, 15.10it/s, loss_batch=-242.9611]\n",
            "Train - iteration : 191: 100%|██████████| 235/235 [00:19<00:00, 11.99it/s, loss_batch=-242.3689]\n",
            "Test - iteration : 191: 100%|██████████| 40/40 [00:03<00:00, 13.02it/s, loss_batch=-243.8106]\n",
            "Train - iteration : 192: 100%|██████████| 235/235 [00:18<00:00, 12.53it/s, loss_batch=-245.1419]\n",
            "Test - iteration : 192: 100%|██████████| 40/40 [00:02<00:00, 15.77it/s, loss_batch=-242.0927]\n",
            "Train - iteration : 193: 100%|██████████| 235/235 [00:20<00:00, 11.39it/s, loss_batch=-245.8721]\n",
            "Test - iteration : 193: 100%|██████████| 40/40 [00:02<00:00, 15.12it/s, loss_batch=-239.1955]\n",
            "Train - iteration : 194: 100%|██████████| 235/235 [00:19<00:00, 12.29it/s, loss_batch=-245.1199]\n",
            "Test - iteration : 194: 100%|██████████| 40/40 [00:03<00:00, 12.77it/s, loss_batch=-241.7833]\n",
            "Train - iteration : 195: 100%|██████████| 235/235 [00:18<00:00, 12.52it/s, loss_batch=-245.7404]\n",
            "Test - iteration : 195: 100%|██████████| 40/40 [00:02<00:00, 15.71it/s, loss_batch=-240.6578]\n",
            "Train - iteration : 196: 100%|██████████| 235/235 [00:19<00:00, 12.08it/s, loss_batch=-246.4244]\n",
            "Test - iteration : 196: 100%|██████████| 40/40 [00:02<00:00, 15.53it/s, loss_batch=-244.9817]\n",
            "Train - iteration : 197: 100%|██████████| 235/235 [00:18<00:00, 12.47it/s, loss_batch=-245.7757]\n",
            "Test - iteration : 197: 100%|██████████| 40/40 [00:03<00:00, 12.59it/s, loss_batch=-238.8291]\n",
            "Train - iteration : 198: 100%|██████████| 235/235 [00:19<00:00, 12.36it/s, loss_batch=-245.4115]\n",
            "Test - iteration : 198: 100%|██████████| 40/40 [00:02<00:00, 15.58it/s, loss_batch=-241.6992]\n",
            "Train - iteration : 199: 100%|██████████| 235/235 [00:19<00:00, 11.83it/s, loss_batch=-244.6740]\n",
            "Test - iteration : 199: 100%|██████████| 40/40 [00:02<00:00, 14.80it/s, loss_batch=-244.7364]\n",
            "Train - iteration : 200: 100%|██████████| 235/235 [00:18<00:00, 12.39it/s, loss_batch=-246.3086]\n",
            "Test - iteration : 200: 100%|██████████| 40/40 [00:02<00:00, 13.42it/s, loss_batch=-244.2386]\n",
            "100%|██████████| 200/200 [1:11:47<00:00, 21.54s/it]\n"
          ]
        },
        {
          "output_type": "display_data",
          "data": {
            "text/plain": [
              "<Figure size 400x400 with 1 Axes>"
            ],
            "image/png": "[encoded data removed]"
          },
          "metadata": {}
        }
      ]
    },
    {
      "cell_type": "code",
      "source": [
        "x = get_normal_sample(model)\n",
        "plot_digits(x)"
      ],
      "metadata": {
        "colab": {
          "base_uri": "https://localhost:8080/",
          "height": 986
        },
        "id": "3B4wGJuS7V8K",
        "outputId": "e827f682-04cf-48c0-bc7e-e9e8341de62f"
      },
      "execution_count": null,
      "outputs": [
        {
          "output_type": "display_data",
          "data": {
            "text/plain": [
              "<Figure size 1200x1200 with 16 Axes>"
            ],
            "image/png": "[encoded data removed]"
          },
          "metadata": {}
        }
      ]
    },
    {
      "cell_type": "code",
      "source": [],
      "metadata": {
        "id": "DdyVK_wcqd2d"
      },
      "execution_count": null,
      "outputs": []
    }
  ]
}